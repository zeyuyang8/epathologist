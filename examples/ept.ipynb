{
 "cells": [
  {
   "cell_type": "code",
   "execution_count": 4,
   "metadata": {},
   "outputs": [],
   "source": [
    "import src\n",
    "import torch\n",
    "import numpy as np\n",
    "import splitfolders\n",
    "import os\n",
    "from PIL import Image\n",
    "from numpy import asarray"
   ]
  },
  {
   "cell_type": "code",
   "execution_count": 5,
   "metadata": {},
   "outputs": [],
   "source": [
    "DATA_PATH = './data/benchmarks/TCGA-BCSS/'\n",
    "SPLIT_PATH = './data/benchmarks/TCGA-BCSS-split/'\n",
    "IMG_PATH = './data/benchmarks/TCGA-BCSS/images/'\n",
    "ANN_PATH = './data/benchmarks/TCGA-BCSS/annotations/'"
   ]
  },
  {
   "cell_type": "code",
   "execution_count": 6,
   "metadata": {},
   "outputs": [
    {
     "name": "stdout",
     "output_type": "stream",
     "text": [
      "(2467, 3394, 3)\n",
      "(2467, 3394)\n"
     ]
    }
   ],
   "source": [
    "####################################################################################\n",
    "# Part 1 - Load the data\n",
    "\n",
    "# split folders\n",
    "if not os.path.exists(SPLIT_PATH):\n",
    "    splitfolders.ratio(DATA_PATH, output=SPLIT_PATH,\n",
    "                        seed=2023, ratio=(0.8, 0.1, 0.1))\n",
    "\n",
    "# Check the data\n",
    "img_path = DATA_PATH + 'images/TCGA-A1-A0SK-DX1_xmin45749_ymin25055_MPP-0.2500.png'\n",
    "mask_path = DATA_PATH + 'masks/TCGA-A1-A0SK-DX1_xmin45749_ymin25055_MPP-0.2500.png'\n",
    "img = Image.open(img_path)\n",
    "mask = Image.open(mask_path)\n",
    "img_arr = asarray(img)\n",
    "mask_arr = asarray(mask)\n",
    "print(img_arr.shape)\n",
    "print(mask_arr.shape)"
   ]
  },
  {
   "cell_type": "code",
   "execution_count": null,
   "metadata": {},
   "outputs": [],
   "source": []
  }
 ],
 "metadata": {
  "kernelspec": {
   "display_name": "epathologist",
   "language": "python",
   "name": "python3"
  },
  "language_info": {
   "codemirror_mode": {
    "name": "ipython",
    "version": 3
   },
   "file_extension": ".py",
   "mimetype": "text/x-python",
   "name": "python",
   "nbconvert_exporter": "python",
   "pygments_lexer": "ipython3",
   "version": "3.9.16"
  },
  "orig_nbformat": 4
 },
 "nbformat": 4,
 "nbformat_minor": 2
}
