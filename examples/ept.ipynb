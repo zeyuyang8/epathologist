{
 "cells": [
  {
   "cell_type": "code",
   "execution_count": 14,
   "metadata": {},
   "outputs": [],
   "source": [
    "import src\n",
    "import torch\n",
    "import splitfolders\n",
    "import os"
   ]
  },
  {
   "cell_type": "code",
   "execution_count": 15,
   "metadata": {},
   "outputs": [],
   "source": [
    "DATA_PATH = './data/benchmarks/TCGA-BCSS/'\n",
    "SPLIT_PATH = './data/benchmarks/TCGA-BCSS-split/'\n",
    "IMG_PATH = './data/benchmarks/TCGA-BCSS/images/'\n",
    "ANN_PATH = './data/benchmarks/TCGA-BCSS/annotations/'"
   ]
  },
  {
   "cell_type": "code",
   "execution_count": 16,
   "metadata": {},
   "outputs": [],
   "source": [
    "####################################################################################\n",
    "# Part 1 - Load the data\n",
    "\n",
    "# split folders\n",
    "if not os.path.exists(SPLIT_PATH):\n",
    "    splitfolders.ratio(DATA_PATH, output=SPLIT_PATH,\n",
    "                        seed=2023, ratio=(0.8, 0.1, 0.1))\n",
    "\n",
    "# load the data"
   ]
  },
  {
   "cell_type": "code",
   "execution_count": null,
   "metadata": {},
   "outputs": [],
   "source": [
    "####################################################################################\n",
    "# Part 2 - Nuclei detection\n",
    "\n"
   ]
  }
 ],
 "metadata": {
  "kernelspec": {
   "display_name": "epathologist",
   "language": "python",
   "name": "python3"
  },
  "language_info": {
   "codemirror_mode": {
    "name": "ipython",
    "version": 3
   },
   "file_extension": ".py",
   "mimetype": "text/x-python",
   "name": "python",
   "nbconvert_exporter": "python",
   "pygments_lexer": "ipython3",
   "version": "3.9.16"
  },
  "orig_nbformat": 4
 },
 "nbformat": 4,
 "nbformat_minor": 2
}
