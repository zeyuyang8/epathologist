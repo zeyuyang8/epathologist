{
 "cells": [
  {
   "cell_type": "code",
   "execution_count": 1,
   "metadata": {},
   "outputs": [],
   "source": [
    "import os\n",
    "from PIL import Image\n",
    "import numpy as np\n",
    "import pandas as pd\n",
    "import scipy.io\n",
    "from tqdm import tqdm\n",
    "import splitfolders"
   ]
  },
  {
   "cell_type": "code",
   "execution_count": 2,
   "metadata": {},
   "outputs": [],
   "source": [
    "IMG_DIR = './data/benchmarks/NuCLS/rgb/'\n",
    "CSV_DIR = './data/benchmarks/NuCLS/csv/'\n",
    "NUCLS_CLASS_MAP = {\n",
    "    'fov': 14,\n",
    "    'tumor': 1,\n",
    "    'fibroblast': 2,\n",
    "    'lymphocyte': 3,\n",
    "    'plasma_cell': 4,\n",
    "    'macrophage': 5,\n",
    "    'mitotic_figure': 6,\n",
    "    'vascular_endothelium': 7,\n",
    "    'myoepithelium': 8,\n",
    "    'apoptotic_body': 9,\n",
    "    'neutrophil': 10,\n",
    "    'ductal_epithelium': 11,\n",
    "    'eosinophil': 12,\n",
    "    'unlabeled': 13\n",
    "}"
   ]
  },
  {
   "cell_type": "code",
   "execution_count": 3,
   "metadata": {},
   "outputs": [
    {
     "name": "stderr",
     "output_type": "stream",
     "text": [
      "  1%|          | 11/1744 [00:00<00:16, 102.85it/s]"
     ]
    },
    {
     "name": "stderr",
     "output_type": "stream",
     "text": [
      "100%|██████████| 1744/1744 [00:15<00:00, 114.92it/s]\n"
     ]
    }
   ],
   "source": [
    "def get_file_names(path, extension):\n",
    "    \"\"\"Returns a sorted list of file names that match the \n",
    "    specified file extension in the given directory.\n",
    "    \"\"\"\n",
    "    file_names = []\n",
    "    # Get file names of files with the correct extnesion\n",
    "    for file in os.listdir(path):\n",
    "        if file.endswith(extension):\n",
    "            file_names.append(os.path.join(path, file))\n",
    "    return sorted(file_names)\n",
    "\n",
    "def csv_to_df(csv_path):\n",
    "    \"\"\"Reads a CSV file and returns a pandas dataframe.\n",
    "    \"\"\"\n",
    "    df = pd.read_csv(csv_path, header=0, index_col=0)\n",
    "    return df\n",
    "\n",
    "def save_mask_nucls(img_dir, csv_dir, mask_dir):\n",
    "    if not os.path.exists(mask_dir):\n",
    "        os.makedirs(mask_dir)\n",
    "    img_paths = get_file_names(img_dir, '.png')\n",
    "    csv_paths = get_file_names(csv_dir, 'csv')\n",
    "    for idx1 in tqdm(range(len(img_paths))):\n",
    "        img_path = img_paths[idx1]\n",
    "        csv_path = csv_paths[idx1]\n",
    "        file_name = img_path.split('/')[-1].split('.')[0]\n",
    "        # print('Processing csv: ' + csv_path)\n",
    "        \n",
    "        # Read image and CSV file\n",
    "        img = Image.open(img_path)\n",
    "        ann = csv_to_df(csv_path)\n",
    "        width, height = img.size\n",
    "        # print(f\"width: {width}, height: {height}\")\n",
    "        \n",
    "        # Create mask\n",
    "        mask = {}\n",
    "        type_map = np.zeros((height, width), dtype=np.int32)\n",
    "        inst_map = np.zeros((height, width), dtype=np.int32)\n",
    "        id = np.zeros((len(ann), 1), dtype=np.int32)\n",
    "        class_id = np.zeros((len(ann), 1), dtype=np.uint8)\n",
    "        for idx in range(len(ann)):\n",
    "            inst_id = idx + 1\n",
    "            coords_x = [min(int(x) - 1, width - 1) for x in ann.iloc[idx]['coords_x'].split(',')]\n",
    "            coords_y = [min(int(y) - 1, height - 1) for y in ann.iloc[idx]['coords_y'].split(',')]\n",
    "            inst_map[coords_y, coords_x] = inst_id\n",
    "            id[idx] = inst_id\n",
    "            raw_classification = ann.iloc[idx]['raw_classification']\n",
    "            class_id[idx] = NUCLS_CLASS_MAP[raw_classification]\n",
    "            type_map[coords_y, coords_x] = class_id[idx]\n",
    "            \n",
    "        mask['inst_map'] = inst_map\n",
    "        mask['id'] = id\n",
    "        mask['class'] = class_id\n",
    "        mask['type_map'] = type_map\n",
    "\n",
    "        # Save mask as mat file\n",
    "        scipy.io.savemat(mask_dir + file_name + '.mat', mask)\n",
    "        # print('Saved mask for image: ' + file_name)\n",
    "\n",
    "save_mask_nucls(IMG_DIR, CSV_DIR, './data/benchmarks/NuCLS/mask_mat/')"
   ]
  },
  {
   "cell_type": "code",
   "execution_count": 4,
   "metadata": {},
   "outputs": [
    {
     "name": "stderr",
     "output_type": "stream",
     "text": [
      "Copying files: 8720 files [00:02, 3391.69 files/s]\n"
     ]
    }
   ],
   "source": [
    "splitfolders.ratio('./data/benchmarks/NuCLS/', output='./data/benchmarks/NuCLS-split/',\n",
    "                    seed=2023,\n",
    "                    ratio=(0.8, 0.1, 0.1))"
   ]
  }
 ],
 "metadata": {
  "kernelspec": {
   "display_name": "epathologist",
   "language": "python",
   "name": "python3"
  },
  "language_info": {
   "codemirror_mode": {
    "name": "ipython",
    "version": 3
   },
   "file_extension": ".py",
   "mimetype": "text/x-python",
   "name": "python",
   "nbconvert_exporter": "python",
   "pygments_lexer": "ipython3",
   "version": "3.9.16"
  },
  "orig_nbformat": 4
 },
 "nbformat": 4,
 "nbformat_minor": 2
}
