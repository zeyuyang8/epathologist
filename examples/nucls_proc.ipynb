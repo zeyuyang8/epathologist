{
 "cells": [
  {
   "cell_type": "code",
   "execution_count": 60,
   "metadata": {},
   "outputs": [],
   "source": [
    "import os\n",
    "import pandas as pd\n",
    "import cv2\n",
    "import numpy as np\n",
    "import scipy.io\n",
    "from tqdm import tqdm\n",
    "import splitfolders"
   ]
  },
  {
   "cell_type": "code",
   "execution_count": 56,
   "metadata": {},
   "outputs": [],
   "source": [
    "def get_file_names(path, extension):\n",
    "    \"\"\"Returns a sorted list of file names that match the \n",
    "    specified file extension in the given directory.\n",
    "    \"\"\"\n",
    "    file_names = []\n",
    "    # Get file names of files with the correct extnesion\n",
    "    for file in os.listdir(path):\n",
    "        if file.endswith(extension):\n",
    "            file_names.append(os.path.join(path, file))\n",
    "    return sorted(file_names)"
   ]
  },
  {
   "cell_type": "code",
   "execution_count": 57,
   "metadata": {},
   "outputs": [],
   "source": [
    "def csv_to_df(csv_path):\n",
    "    \"\"\"Reads a CSV file and returns a pandas dataframe.\n",
    "    \"\"\"\n",
    "    df = pd.read_csv(csv_path, header=0, index_col=0)\n",
    "    return df"
   ]
  },
  {
   "cell_type": "code",
   "execution_count": 58,
   "metadata": {},
   "outputs": [],
   "source": [
    "def nucls(mask_path, csv_path, mask_mat_dir):\n",
    "    # make directory for mask_mat files\n",
    "    if not os.path.exists(mask_mat_dir):\n",
    "        os.makedirs(mask_mat_dir)\n",
    "    \n",
    "    # get file names\n",
    "    mask_files = get_file_names(mask_path, '.png')\n",
    "    ann_files = get_file_names(csv_path, '.csv')\n",
    "    \n",
    "    for idx in tqdm(range(len(mask_files))):\n",
    "        # get file\n",
    "        ann_file = ann_files[idx]\n",
    "        mask_file = mask_files[idx]\n",
    "        file_name = mask_file.split('/')[-1].split('.')[0]\n",
    "        \n",
    "        # read csv\n",
    "        ann = csv_to_df(ann_file)\n",
    "        \n",
    "        # read mask\n",
    "        mask = cv2.imread(mask_file)\n",
    "        height, width, _ = mask.shape\n",
    "        channels = cv2.split(mask)\n",
    "        instances = cv2.multiply(channels[0], channels[1])\n",
    "        labels = channels[2]\n",
    "        \n",
    "        # first two are invalid, one is background and one is fov\n",
    "        unique_inst_ids = np.unique(instances) \n",
    "        \n",
    "        # Get instance masks\n",
    "        mask_dict = {}\n",
    "        inst_map = np.zeros((height, width), dtype=np.int32)\n",
    "        type_map = np.zeros((height, width), dtype=np.int32)\n",
    "        id = np.zeros((len(ann), 1), dtype=np.int32)\n",
    "        class_id = np.zeros((len(ann), 1), dtype=np.int32)\n",
    "\n",
    "        # Loop\n",
    "        for idx, unique_inst_id in enumerate(unique_inst_ids[2:]):\n",
    "            unique_inst_mask = np.isin(instances, unique_inst_id)\n",
    "            label = np.unique(labels[unique_inst_mask])\n",
    "            if len(label) != 1:\n",
    "                print('Error: more than one label in instance mask')\n",
    "                break\n",
    "            if label[0] == 0 or label[0] == 253:\n",
    "                print('Error: invalid label')\n",
    "            if label == 99:\n",
    "                label = 13  # change unlabeled 99 to 13\n",
    "\n",
    "            inst_map[unique_inst_mask] = idx + 1\n",
    "            type_map[unique_inst_mask] = label\n",
    "            id[idx] = idx + 1\n",
    "            class_id[idx] = label\n",
    "        \n",
    "        mask_dict['inst_map'] = inst_map\n",
    "        mask_dict['type_map'] = type_map\n",
    "        mask_dict['id'] = id\n",
    "        mask_dict['class'] = class_id\n",
    "        \n",
    "        scipy.io.savemat(mask_mat_dir + file_name + '.mat', mask_dict)"
   ]
  },
  {
   "cell_type": "code",
   "execution_count": 59,
   "metadata": {},
   "outputs": [
    {
     "name": "stderr",
     "output_type": "stream",
     "text": [
      "100%|██████████| 1744/1744 [00:14<00:00, 121.60it/s]\n"
     ]
    }
   ],
   "source": [
    "mask_path = './data/benchmarks/NuCLS/mask/'\n",
    "csv_path = './data/benchmarks/NuCLS/csv/'\n",
    "nucls(mask_path, csv_path, './data/benchmarks/NuCLS/mask_mat/')"
   ]
  },
  {
   "cell_type": "code",
   "execution_count": 61,
   "metadata": {},
   "outputs": [
    {
     "name": "stderr",
     "output_type": "stream",
     "text": [
      "Copying files: 8720 files [00:02, 3439.13 files/s]\n"
     ]
    }
   ],
   "source": [
    "splitfolders.ratio('./data/benchmarks/NuCLS/', output='./data/benchmarks/NuCLS-split/',\n",
    "                    seed=2023,\n",
    "                    ratio=(0.8, 0.1, 0.1))"
   ]
  },
  {
   "cell_type": "code",
   "execution_count": null,
   "metadata": {},
   "outputs": [],
   "source": []
  }
 ],
 "metadata": {
  "kernelspec": {
   "display_name": "epathologist",
   "language": "python",
   "name": "python3"
  },
  "language_info": {
   "codemirror_mode": {
    "name": "ipython",
    "version": 3
   },
   "file_extension": ".py",
   "mimetype": "text/x-python",
   "name": "python",
   "nbconvert_exporter": "python",
   "pygments_lexer": "ipython3",
   "version": "3.9.16"
  },
  "orig_nbformat": 4
 },
 "nbformat": 4,
 "nbformat_minor": 2
}
