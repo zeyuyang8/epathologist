{
 "cells": [
  {
   "cell_type": "code",
   "execution_count": 1,
   "metadata": {},
   "outputs": [],
   "source": [
    "from cellseg_models_pytorch.datasets.folder_dataset_train import SegmentationFolderDataset\n",
    "import pytorch_lightning as pl\n",
    "import cellseg_models_pytorch as csmp\n",
    "from cellseg_models_pytorch.training.lit import SegmentationExperiment\n",
    "import warnings\n",
    "from torch.utils.data import DataLoader"
   ]
  },
  {
   "cell_type": "code",
   "execution_count": 2,
   "metadata": {},
   "outputs": [],
   "source": [
    "warnings.filterwarnings('ignore')"
   ]
  },
  {
   "cell_type": "code",
   "execution_count": 3,
   "metadata": {},
   "outputs": [],
   "source": [
    "train_dir = './data/benchmarks/NuCLS-split/train/'\n",
    "val_dir = './data/benchmarks/NuCLS-split/val/'\n",
    "test_dir = './data/benchmarks/NuCLS-split/test/'\n",
    "\n",
    "trainset = SegmentationFolderDataset(\n",
    "    path=train_dir + 'rgb/',\n",
    "    mask_path=train_dir + 'mask_mat/',\n",
    "    img_transforms=[\"blur\", \"hue_sat\"],\n",
    "    inst_transforms=[\"cellpose\"]\n",
    ")\n",
    "valset = SegmentationFolderDataset(\n",
    "    path=val_dir + 'rgb/',\n",
    "    mask_path=val_dir + 'mask_mat/',\n",
    "    img_transforms=[\"blur\", \"hue_sat\"],\n",
    "    inst_transforms=[\"cellpose\"]\n",
    ")\n",
    "testset = SegmentationFolderDataset(\n",
    "    path=test_dir + 'rgb/',\n",
    "    mask_path=test_dir + 'mask_mat/',\n",
    "    img_transforms=[\"blur\", \"hue_sat\"],\n",
    "    inst_transforms=[\"cellpose\"]\n",
    ")\n",
    "\n",
    "def od_collate_fn(batch):\n",
    "    '''Stack images and targets in batches of consistant size and shape for object detection.\n",
    "\n",
    "    Args:\n",
    "        batch: List of (image, target) tuples.\n",
    "\n",
    "    Returns:\n",
    "        Tuple of stacked images and targets.\n",
    "    '''\n",
    "    return tuple(zip(*batch))\n",
    "\n",
    "trainloader = DataLoader(trainset, batch_size=8, shuffle=True, num_workers=8, collate_fn=od_collate_fn)\n",
    "valloader = DataLoader(valset, batch_size=8, shuffle=False, num_workers=8, collate_fn=od_collate_fn)"
   ]
  },
  {
   "cell_type": "code",
   "execution_count": 4,
   "metadata": {},
   "outputs": [
    {
     "name": "stderr",
     "output_type": "stream",
     "text": [
      "GPU available: True (cuda), used: True\n",
      "TPU available: False, using: 0 TPU cores\n",
      "IPU available: False, using: 0 IPUs\n",
      "HPU available: False, using: 0 HPUs\n"
     ]
    }
   ],
   "source": [
    "def get_cellpose_model(num_classes, enc_name=\"tf_efficientnetv2_s\", max_epochs=10):\n",
    "    \"\"\"Get cellpose model\n",
    "    enc_name (str): name of encoder. e.g. -> \"tf_efficientnetv2_s\"\n",
    "    num_classes (int): number of classes. e.g. -> len(lizard_module.type_classes)\n",
    "    \"\"\"\n",
    "    model = csmp.models.cellpose_base(\n",
    "        enc_name=enc_name,\n",
    "        type_classes=num_classes,\n",
    "    )\n",
    "    experiment = SegmentationExperiment(\n",
    "        model=model,\n",
    "        branch_losses={\"cellpose\": \"ssim_mse\", \"type\": \"tversky_focal\"},\n",
    "        branch_metrics={\"cellpose\": [None], \"type\": [\"miou\"]},\n",
    "        optimizer=\"adamw\",\n",
    "    )\n",
    "    trainer = pl.Trainer(\n",
    "        accelerator=\"gpu\",\n",
    "        max_epochs=max_epochs,\n",
    "        move_metrics_to_cpu=True,\n",
    "    )\n",
    "    return experiment, trainer\n",
    "\n",
    "def train_model(experiment, trainer, trainloader, valloader, ckpt_path=None):\n",
    "    if ckpt_path is None:\n",
    "        trainer.fit(experiment, trainloader, valloader)\n",
    "        return None\n",
    "    trainer.fit(experiment, \n",
    "                trainloader,\n",
    "                valloader,\n",
    "                ckpt_path=ckpt_path)\n",
    "    return None\n",
    "\n",
    "model, trainer = get_cellpose_model(num_classes=15, enc_name=\"tf_efficientnetv2_s\", max_epochs=10)"
   ]
  },
  {
   "cell_type": "code",
   "execution_count": 5,
   "metadata": {},
   "outputs": [
    {
     "name": "stderr",
     "output_type": "stream",
     "text": [
      "Initializing distributed: GLOBAL_RANK: 0, MEMBER: 1/2\n",
      "Initializing distributed: GLOBAL_RANK: 1, MEMBER: 2/2\n",
      "----------------------------------------------------------------------------------------------------\n",
      "distributed_backend=nccl\n",
      "All distributed processes registered. Starting with 2 processes\n",
      "----------------------------------------------------------------------------------------------------\n",
      "\n",
      "You are using a CUDA device ('NVIDIA GeForce RTX 3090') that has Tensor Cores. To properly utilize them, you should set `torch.set_float32_matmul_precision('medium' | 'high')` which will trade-off precision for performance. For more details, read https://pytorch.org/docs/stable/generated/torch.set_float32_matmul_precision.html#torch.set_float32_matmul_precision\n",
      "LOCAL_RANK: 0 - CUDA_VISIBLE_DEVICES: [0,1]\n",
      "LOCAL_RANK: 1 - CUDA_VISIBLE_DEVICES: [0,1]\n",
      "\n",
      "  | Name          | Type          | Params\n",
      "------------------------------------------------\n",
      "0 | model         | CellPoseUnet  | 23.5 M\n",
      "1 | criterion     | MultiTaskLoss | 0     \n",
      "2 | train_metrics | ModuleDict    | 0     \n",
      "3 | val_metrics   | ModuleDict    | 0     \n",
      "4 | test_metrics  | ModuleDict    | 0     \n",
      "------------------------------------------------\n",
      "23.5 M    Trainable params\n",
      "0         Non-trainable params\n",
      "23.5 M    Total params\n",
      "93.923    Total estimated model params size (MB)\n"
     ]
    },
    {
     "data": {
      "application/vnd.jupyter.widget-view+json": {
       "model_id": "754345b2d7ec4249ba016da8d74fe7d0",
       "version_major": 2,
       "version_minor": 0
      },
      "text/plain": [
       "Sanity Checking: 0it [00:00, ?it/s]"
      ]
     },
     "metadata": {},
     "output_type": "display_data"
    },
    {
     "ename": "ProcessRaisedException",
     "evalue": "\n\n-- Process 0 terminated with the following error:\nTraceback (most recent call last):\n  File \"/home/zy45/anaconda3/envs/epathologist/lib/python3.9/site-packages/torch/multiprocessing/spawn.py\", line 69, in _wrap\n    fn(i, *args)\n  File \"/home/zy45/anaconda3/envs/epathologist/lib/python3.9/site-packages/pytorch_lightning/strategies/launchers/multiprocessing.py\", line 139, in _wrapping_function\n    results = function(*args, **kwargs)\n  File \"/home/zy45/anaconda3/envs/epathologist/lib/python3.9/site-packages/pytorch_lightning/trainer/trainer.py\", line 650, in _fit_impl\n    self._run(model, ckpt_path=self.ckpt_path)\n  File \"/home/zy45/anaconda3/envs/epathologist/lib/python3.9/site-packages/pytorch_lightning/trainer/trainer.py\", line 1112, in _run\n    results = self._run_stage()\n  File \"/home/zy45/anaconda3/envs/epathologist/lib/python3.9/site-packages/pytorch_lightning/trainer/trainer.py\", line 1191, in _run_stage\n    self._run_train()\n  File \"/home/zy45/anaconda3/envs/epathologist/lib/python3.9/site-packages/pytorch_lightning/trainer/trainer.py\", line 1204, in _run_train\n    self._run_sanity_check()\n  File \"/home/zy45/anaconda3/envs/epathologist/lib/python3.9/site-packages/pytorch_lightning/trainer/trainer.py\", line 1276, in _run_sanity_check\n    val_loop.run()\n  File \"/home/zy45/anaconda3/envs/epathologist/lib/python3.9/site-packages/pytorch_lightning/loops/loop.py\", line 199, in run\n    self.advance(*args, **kwargs)\n  File \"/home/zy45/anaconda3/envs/epathologist/lib/python3.9/site-packages/pytorch_lightning/loops/dataloader/evaluation_loop.py\", line 152, in advance\n    dl_outputs = self.epoch_loop.run(self._data_fetcher, dl_max_batches, kwargs)\n  File \"/home/zy45/anaconda3/envs/epathologist/lib/python3.9/site-packages/pytorch_lightning/loops/loop.py\", line 199, in run\n    self.advance(*args, **kwargs)\n  File \"/home/zy45/anaconda3/envs/epathologist/lib/python3.9/site-packages/pytorch_lightning/loops/epoch/evaluation_epoch_loop.py\", line 137, in advance\n    output = self._evaluation_step(**kwargs)\n  File \"/home/zy45/anaconda3/envs/epathologist/lib/python3.9/site-packages/pytorch_lightning/loops/epoch/evaluation_epoch_loop.py\", line 234, in _evaluation_step\n    output = self.trainer._call_strategy_hook(hook_name, *kwargs.values())\n  File \"/home/zy45/anaconda3/envs/epathologist/lib/python3.9/site-packages/pytorch_lightning/trainer/trainer.py\", line 1494, in _call_strategy_hook\n    output = fn(*args, **kwargs)\n  File \"/home/zy45/anaconda3/envs/epathologist/lib/python3.9/site-packages/pytorch_lightning/strategies/ddp_spawn.py\", line 288, in validation_step\n    return self.model(*args, **kwargs)\n  File \"/home/zy45/anaconda3/envs/epathologist/lib/python3.9/site-packages/torch/nn/modules/module.py\", line 1194, in _call_impl\n    return forward_call(*input, **kwargs)\n  File \"/home/zy45/anaconda3/envs/epathologist/lib/python3.9/site-packages/torch/nn/parallel/distributed.py\", line 1040, in forward\n    output = self._run_ddp_forward(*inputs, **kwargs)\n  File \"/home/zy45/anaconda3/envs/epathologist/lib/python3.9/site-packages/torch/nn/parallel/distributed.py\", line 1000, in _run_ddp_forward\n    return module_to_run(*inputs[0], **kwargs[0])\n  File \"/home/zy45/anaconda3/envs/epathologist/lib/python3.9/site-packages/torch/nn/modules/module.py\", line 1194, in _call_impl\n    return forward_call(*input, **kwargs)\n  File \"/home/zy45/anaconda3/envs/epathologist/lib/python3.9/site-packages/pytorch_lightning/overrides/base.py\", line 110, in forward\n    return self._forward_module.validation_step(*inputs, **kwargs)\n  File \"/home/zy45/anaconda3/envs/epathologist/lib/python3.9/site-packages/cellseg_models_pytorch/training/lit/lightning_experiment.py\", line 215, in validation_step\n    return self.log_step(batch, batch_idx, \"val\")\n  File \"/home/zy45/anaconda3/envs/epathologist/lib/python3.9/site-packages/cellseg_models_pytorch/training/lit/lightning_experiment.py\", line 182, in log_step\n    res = self.step(batch, batch_idx, phase)\n  File \"/home/zy45/anaconda3/envs/epathologist/lib/python3.9/site-packages/cellseg_models_pytorch/training/lit/lightning_experiment.py\", line 154, in step\n    soft_masks = self.model(batch[\"image\"])\nTypeError: tuple indices must be integers or slices, not str\n",
     "output_type": "error",
     "traceback": [
      "\u001b[0;31m---------------------------------------------------------------------------\u001b[0m",
      "\u001b[0;31mProcessRaisedException\u001b[0m                    Traceback (most recent call last)",
      "Cell \u001b[0;32mIn[5], line 1\u001b[0m\n\u001b[0;32m----> 1\u001b[0m train_model(model, trainer, trainloader, valloader)\n",
      "Cell \u001b[0;32mIn[4], line 25\u001b[0m, in \u001b[0;36mtrain_model\u001b[0;34m(experiment, trainer, trainloader, valloader, ckpt_path)\u001b[0m\n\u001b[1;32m     23\u001b[0m \u001b[39mdef\u001b[39;00m \u001b[39mtrain_model\u001b[39m(experiment, trainer, trainloader, valloader, ckpt_path\u001b[39m=\u001b[39m\u001b[39mNone\u001b[39;00m):\n\u001b[1;32m     24\u001b[0m     \u001b[39mif\u001b[39;00m ckpt_path \u001b[39mis\u001b[39;00m \u001b[39mNone\u001b[39;00m:\n\u001b[0;32m---> 25\u001b[0m         trainer\u001b[39m.\u001b[39;49mfit(experiment, trainloader, valloader)\n\u001b[1;32m     26\u001b[0m         \u001b[39mreturn\u001b[39;00m \u001b[39mNone\u001b[39;00m\n\u001b[1;32m     27\u001b[0m     trainer\u001b[39m.\u001b[39mfit(experiment, \n\u001b[1;32m     28\u001b[0m                 trainloader,\n\u001b[1;32m     29\u001b[0m                 valloader,\n\u001b[1;32m     30\u001b[0m                 ckpt_path\u001b[39m=\u001b[39mckpt_path)\n",
      "File \u001b[0;32m~/anaconda3/envs/epathologist/lib/python3.9/site-packages/pytorch_lightning/trainer/trainer.py:608\u001b[0m, in \u001b[0;36mTrainer.fit\u001b[0;34m(self, model, train_dataloaders, val_dataloaders, datamodule, ckpt_path)\u001b[0m\n\u001b[1;32m    606\u001b[0m model \u001b[39m=\u001b[39m \u001b[39mself\u001b[39m\u001b[39m.\u001b[39m_maybe_unwrap_optimized(model)\n\u001b[1;32m    607\u001b[0m \u001b[39mself\u001b[39m\u001b[39m.\u001b[39mstrategy\u001b[39m.\u001b[39m_lightning_module \u001b[39m=\u001b[39m model\n\u001b[0;32m--> 608\u001b[0m call\u001b[39m.\u001b[39;49m_call_and_handle_interrupt(\n\u001b[1;32m    609\u001b[0m     \u001b[39mself\u001b[39;49m, \u001b[39mself\u001b[39;49m\u001b[39m.\u001b[39;49m_fit_impl, model, train_dataloaders, val_dataloaders, datamodule, ckpt_path\n\u001b[1;32m    610\u001b[0m )\n",
      "File \u001b[0;32m~/anaconda3/envs/epathologist/lib/python3.9/site-packages/pytorch_lightning/trainer/call.py:36\u001b[0m, in \u001b[0;36m_call_and_handle_interrupt\u001b[0;34m(trainer, trainer_fn, *args, **kwargs)\u001b[0m\n\u001b[1;32m     34\u001b[0m \u001b[39mtry\u001b[39;00m:\n\u001b[1;32m     35\u001b[0m     \u001b[39mif\u001b[39;00m trainer\u001b[39m.\u001b[39mstrategy\u001b[39m.\u001b[39mlauncher \u001b[39mis\u001b[39;00m \u001b[39mnot\u001b[39;00m \u001b[39mNone\u001b[39;00m:\n\u001b[0;32m---> 36\u001b[0m         \u001b[39mreturn\u001b[39;00m trainer\u001b[39m.\u001b[39;49mstrategy\u001b[39m.\u001b[39;49mlauncher\u001b[39m.\u001b[39;49mlaunch(trainer_fn, \u001b[39m*\u001b[39;49margs, trainer\u001b[39m=\u001b[39;49mtrainer, \u001b[39m*\u001b[39;49m\u001b[39m*\u001b[39;49mkwargs)\n\u001b[1;32m     37\u001b[0m     \u001b[39melse\u001b[39;00m:\n\u001b[1;32m     38\u001b[0m         \u001b[39mreturn\u001b[39;00m trainer_fn(\u001b[39m*\u001b[39margs, \u001b[39m*\u001b[39m\u001b[39m*\u001b[39mkwargs)\n",
      "File \u001b[0;32m~/anaconda3/envs/epathologist/lib/python3.9/site-packages/pytorch_lightning/strategies/launchers/multiprocessing.py:113\u001b[0m, in \u001b[0;36m_MultiProcessingLauncher.launch\u001b[0;34m(self, function, trainer, *args, **kwargs)\u001b[0m\n\u001b[1;32m    110\u001b[0m \u001b[39melse\u001b[39;00m:\n\u001b[1;32m    111\u001b[0m     process_args \u001b[39m=\u001b[39m [trainer, function, args, kwargs, return_queue]\n\u001b[0;32m--> 113\u001b[0m mp\u001b[39m.\u001b[39;49mstart_processes(\n\u001b[1;32m    114\u001b[0m     \u001b[39mself\u001b[39;49m\u001b[39m.\u001b[39;49m_wrapping_function,\n\u001b[1;32m    115\u001b[0m     args\u001b[39m=\u001b[39;49mprocess_args,\n\u001b[1;32m    116\u001b[0m     nprocs\u001b[39m=\u001b[39;49m\u001b[39mself\u001b[39;49m\u001b[39m.\u001b[39;49m_strategy\u001b[39m.\u001b[39;49mnum_processes,\n\u001b[1;32m    117\u001b[0m     start_method\u001b[39m=\u001b[39;49m\u001b[39mself\u001b[39;49m\u001b[39m.\u001b[39;49m_start_method,\n\u001b[1;32m    118\u001b[0m )\n\u001b[1;32m    119\u001b[0m worker_output \u001b[39m=\u001b[39m return_queue\u001b[39m.\u001b[39mget()\n\u001b[1;32m    120\u001b[0m \u001b[39mif\u001b[39;00m trainer \u001b[39mis\u001b[39;00m \u001b[39mNone\u001b[39;00m:\n",
      "File \u001b[0;32m~/anaconda3/envs/epathologist/lib/python3.9/site-packages/torch/multiprocessing/spawn.py:198\u001b[0m, in \u001b[0;36mstart_processes\u001b[0;34m(fn, args, nprocs, join, daemon, start_method)\u001b[0m\n\u001b[1;32m    195\u001b[0m     \u001b[39mreturn\u001b[39;00m context\n\u001b[1;32m    197\u001b[0m \u001b[39m# Loop on join until it returns True or raises an exception.\u001b[39;00m\n\u001b[0;32m--> 198\u001b[0m \u001b[39mwhile\u001b[39;00m \u001b[39mnot\u001b[39;00m context\u001b[39m.\u001b[39;49mjoin():\n\u001b[1;32m    199\u001b[0m     \u001b[39mpass\u001b[39;00m\n",
      "File \u001b[0;32m~/anaconda3/envs/epathologist/lib/python3.9/site-packages/torch/multiprocessing/spawn.py:160\u001b[0m, in \u001b[0;36mProcessContext.join\u001b[0;34m(self, timeout)\u001b[0m\n\u001b[1;32m    158\u001b[0m msg \u001b[39m=\u001b[39m \u001b[39m\"\u001b[39m\u001b[39m\\n\u001b[39;00m\u001b[39m\\n\u001b[39;00m\u001b[39m-- Process \u001b[39m\u001b[39m%d\u001b[39;00m\u001b[39m terminated with the following error:\u001b[39m\u001b[39m\\n\u001b[39;00m\u001b[39m\"\u001b[39m \u001b[39m%\u001b[39m error_index\n\u001b[1;32m    159\u001b[0m msg \u001b[39m+\u001b[39m\u001b[39m=\u001b[39m original_trace\n\u001b[0;32m--> 160\u001b[0m \u001b[39mraise\u001b[39;00m ProcessRaisedException(msg, error_index, failed_process\u001b[39m.\u001b[39mpid)\n",
      "\u001b[0;31mProcessRaisedException\u001b[0m: \n\n-- Process 0 terminated with the following error:\nTraceback (most recent call last):\n  File \"/home/zy45/anaconda3/envs/epathologist/lib/python3.9/site-packages/torch/multiprocessing/spawn.py\", line 69, in _wrap\n    fn(i, *args)\n  File \"/home/zy45/anaconda3/envs/epathologist/lib/python3.9/site-packages/pytorch_lightning/strategies/launchers/multiprocessing.py\", line 139, in _wrapping_function\n    results = function(*args, **kwargs)\n  File \"/home/zy45/anaconda3/envs/epathologist/lib/python3.9/site-packages/pytorch_lightning/trainer/trainer.py\", line 650, in _fit_impl\n    self._run(model, ckpt_path=self.ckpt_path)\n  File \"/home/zy45/anaconda3/envs/epathologist/lib/python3.9/site-packages/pytorch_lightning/trainer/trainer.py\", line 1112, in _run\n    results = self._run_stage()\n  File \"/home/zy45/anaconda3/envs/epathologist/lib/python3.9/site-packages/pytorch_lightning/trainer/trainer.py\", line 1191, in _run_stage\n    self._run_train()\n  File \"/home/zy45/anaconda3/envs/epathologist/lib/python3.9/site-packages/pytorch_lightning/trainer/trainer.py\", line 1204, in _run_train\n    self._run_sanity_check()\n  File \"/home/zy45/anaconda3/envs/epathologist/lib/python3.9/site-packages/pytorch_lightning/trainer/trainer.py\", line 1276, in _run_sanity_check\n    val_loop.run()\n  File \"/home/zy45/anaconda3/envs/epathologist/lib/python3.9/site-packages/pytorch_lightning/loops/loop.py\", line 199, in run\n    self.advance(*args, **kwargs)\n  File \"/home/zy45/anaconda3/envs/epathologist/lib/python3.9/site-packages/pytorch_lightning/loops/dataloader/evaluation_loop.py\", line 152, in advance\n    dl_outputs = self.epoch_loop.run(self._data_fetcher, dl_max_batches, kwargs)\n  File \"/home/zy45/anaconda3/envs/epathologist/lib/python3.9/site-packages/pytorch_lightning/loops/loop.py\", line 199, in run\n    self.advance(*args, **kwargs)\n  File \"/home/zy45/anaconda3/envs/epathologist/lib/python3.9/site-packages/pytorch_lightning/loops/epoch/evaluation_epoch_loop.py\", line 137, in advance\n    output = self._evaluation_step(**kwargs)\n  File \"/home/zy45/anaconda3/envs/epathologist/lib/python3.9/site-packages/pytorch_lightning/loops/epoch/evaluation_epoch_loop.py\", line 234, in _evaluation_step\n    output = self.trainer._call_strategy_hook(hook_name, *kwargs.values())\n  File \"/home/zy45/anaconda3/envs/epathologist/lib/python3.9/site-packages/pytorch_lightning/trainer/trainer.py\", line 1494, in _call_strategy_hook\n    output = fn(*args, **kwargs)\n  File \"/home/zy45/anaconda3/envs/epathologist/lib/python3.9/site-packages/pytorch_lightning/strategies/ddp_spawn.py\", line 288, in validation_step\n    return self.model(*args, **kwargs)\n  File \"/home/zy45/anaconda3/envs/epathologist/lib/python3.9/site-packages/torch/nn/modules/module.py\", line 1194, in _call_impl\n    return forward_call(*input, **kwargs)\n  File \"/home/zy45/anaconda3/envs/epathologist/lib/python3.9/site-packages/torch/nn/parallel/distributed.py\", line 1040, in forward\n    output = self._run_ddp_forward(*inputs, **kwargs)\n  File \"/home/zy45/anaconda3/envs/epathologist/lib/python3.9/site-packages/torch/nn/parallel/distributed.py\", line 1000, in _run_ddp_forward\n    return module_to_run(*inputs[0], **kwargs[0])\n  File \"/home/zy45/anaconda3/envs/epathologist/lib/python3.9/site-packages/torch/nn/modules/module.py\", line 1194, in _call_impl\n    return forward_call(*input, **kwargs)\n  File \"/home/zy45/anaconda3/envs/epathologist/lib/python3.9/site-packages/pytorch_lightning/overrides/base.py\", line 110, in forward\n    return self._forward_module.validation_step(*inputs, **kwargs)\n  File \"/home/zy45/anaconda3/envs/epathologist/lib/python3.9/site-packages/cellseg_models_pytorch/training/lit/lightning_experiment.py\", line 215, in validation_step\n    return self.log_step(batch, batch_idx, \"val\")\n  File \"/home/zy45/anaconda3/envs/epathologist/lib/python3.9/site-packages/cellseg_models_pytorch/training/lit/lightning_experiment.py\", line 182, in log_step\n    res = self.step(batch, batch_idx, phase)\n  File \"/home/zy45/anaconda3/envs/epathologist/lib/python3.9/site-packages/cellseg_models_pytorch/training/lit/lightning_experiment.py\", line 154, in step\n    soft_masks = self.model(batch[\"image\"])\nTypeError: tuple indices must be integers or slices, not str\n"
     ]
    }
   ],
   "source": [
    "train_model(model, trainer, trainloader, valloader)"
   ]
  },
  {
   "cell_type": "code",
   "execution_count": null,
   "metadata": {},
   "outputs": [],
   "source": []
  }
 ],
 "metadata": {
  "kernelspec": {
   "display_name": "epathologist",
   "language": "python",
   "name": "python3"
  },
  "language_info": {
   "codemirror_mode": {
    "name": "ipython",
    "version": 3
   },
   "file_extension": ".py",
   "mimetype": "text/x-python",
   "name": "python",
   "nbconvert_exporter": "python",
   "pygments_lexer": "ipython3",
   "version": "3.9.16"
  },
  "orig_nbformat": 4
 },
 "nbformat": 4,
 "nbformat_minor": 2
}
